{
 "cells": [
  {
   "cell_type": "markdown",
   "metadata": {},
   "source": [
    "## NLP Research Algorithm Implementation"
   ]
  },
  {
   "cell_type": "markdown",
   "metadata": {},
   "source": [
    "# Preprocessing\n",
    "    - Tockenize String with Raw Data \n",
    "        - Remove Stop Words\n",
    "    - Only have Array with Nouns \n",
    "    - See whether there is a Relationship between 4 spaces on the orrinal Tokenization Array\n",
    "        -Move left to right\n",
    "    - Based on this Add to Graph\n",
    "    -Account For Repeat Words that puts emphasis on importance\n",
    "# Implement Graph Recursion\n",
    "    - Go through every element in the list and apply the formula once\n",
    "        - .85 dampaning factor\n",
    "        -.15 + .85 * ()\n",
    "            - Find all the Values that point to the current Key //done\n",
    "                -Find Take those Values and find the length of their arrays\n",
    "                - Multiply each one by thier key value\n",
    "                - SUM EVERYTHING\n",
    "    - Repeat this 20 times\n",
    "# Print out the Nodes\n",
    "    - Sort and Print Dictionary"
   ]
  },
  {
   "cell_type": "markdown",
   "metadata": {},
   "source": [
    "# Tockenize String"
   ]
  },
  {
   "cell_type": "code",
   "execution_count": 15,
   "metadata": {},
   "outputs": [
    {
     "name": "stdout",
     "output_type": "stream",
     "text": [
      "[('compatibility', 'NN'), ('of', 'IN'), ('systems', 'NNS'), ('of', 'IN'), ('linear', 'JJ'), ('constraints', 'NNS'), ('over', 'IN'), ('the', 'DT'), ('set', 'NN'), ('of', 'IN'), ('natural', 'JJ'), ('numbers', 'NNS'), ('criteria', 'NNS'), ('of', 'IN'), ('compatibility', 'NN'), ('of', 'IN'), ('a', 'DT'), ('system', 'NN'), ('of', 'IN'), ('linear', 'JJ'), ('diophantine', 'JJ'), ('equations', 'NNS'), ('strict', 'JJ'), ('inequations', 'NNS'), ('and', 'CC'), ('nonstrict', 'JJ'), ('inequations', 'NNS'), ('are', 'VBP'), ('considered', 'VBN'), ('upper', 'JJ'), ('bounds', 'NNS'), ('for', 'IN'), ('components', 'NNS'), ('of', 'IN'), ('a', 'DT'), ('minimal', 'JJ'), ('set', 'NN'), ('of', 'IN'), ('solutions', 'NNS'), ('and', 'CC'), ('algorithms', 'NN'), ('of', 'IN'), ('construction', 'NN'), ('of', 'IN'), ('minimal', 'JJ'), ('generating', 'VBG'), ('sets', 'NNS'), ('of', 'IN'), ('solutions', 'NNS'), ('for', 'IN'), ('all', 'DT'), ('types', 'NNS'), ('of', 'IN'), ('systems', 'NNS'), ('are', 'VBP'), ('given', 'VBN'), ('these', 'DT'), ('criteria', 'NNS'), ('and', 'CC'), ('the', 'DT'), ('corresponding', 'JJ'), ('algorithms', 'NN'), ('for', 'IN'), ('constructing', 'VBG'), ('a', 'DT'), ('minimal', 'JJ'), ('supporting', 'NN'), ('set', 'NN'), ('of', 'IN'), ('solutions', 'NNS'), ('can', 'MD'), ('be', 'VB'), ('used', 'VBN'), ('in', 'IN'), ('solving', 'VBG'), ('all', 'PDT'), ('the', 'DT'), ('considered', 'VBN'), ('types', 'NNS'), ('systems', 'NNS'), ('and', 'CC'), ('systems', 'NNS'), ('of', 'IN'), ('mixed', 'JJ'), ('types', 'NNS')]\n",
      "Normal Text: \n",
      "\n",
      "['compatibility', 'of', 'systems', 'of', 'linear', 'constraints', 'over', 'the', 'set', 'of', 'natural', 'numbers', 'criteria', 'of', 'compatibility', 'of', 'a', 'system', 'of', 'linear', 'diophantine', 'equations', 'strict', 'inequations', 'and', 'nonstrict', 'inequations', 'are', 'considered', 'upper', 'bounds', 'for', 'components', 'of', 'a', 'minimal', 'set', 'of', 'solutions', 'and', 'algorithms', 'of', 'construction', 'of', 'minimal', 'generating', 'sets', 'of', 'solutions', 'for', 'all', 'types', 'of', 'systems', 'are', 'given', 'these', 'criteria', 'and', 'the', 'corresponding', 'algorithms', 'for', 'constructing', 'a', 'minimal', 'supporting', 'set', 'of', 'solutions', 'can', 'be', 'used', 'in', 'solving', 'all', 'the', 'considered', 'types', 'systems', 'and', 'systems', 'of', 'mixed', 'types']\n",
      "\n",
      "\n",
      "Filtered Text: \n",
      "\n",
      "['compatibility', 'systems', 'linear', 'constraints', 'set', 'natural', 'numbers', 'criteria', 'compatibility', 'system', 'linear', 'diophantine', 'equations', 'strict', 'inequations', 'nonstrict', 'inequations', 'upper', 'bounds', 'components', 'minimal', 'set', 'solutions', 'algorithms', 'construction', 'minimal', 'sets', 'solutions', 'types', 'systems', 'criteria', 'corresponding', 'algorithms', 'minimal', 'supporting', 'set', 'solutions', 'types', 'systems', 'systems', 'mixed', 'types']\n"
     ]
    }
   ],
   "source": [
    "# import dictionary for graph \n",
    "import nltk\n",
    "import numpy as np\n",
    "from nltk.tokenize import sent_tokenize, word_tokenize \n",
    "from nltk.tokenize import RegexpTokenizer\n",
    "from nltk.corpus import stopwords\n",
    "from nltk.tokenize import WordPunctTokenizer\n",
    "\n",
    "tokenizer = RegexpTokenizer(r'\\w+')\n",
    "\n",
    "\n",
    "# Replace with any Value for Text\n",
    "text=\"Compatibility of systems of linear constraints over the set of natural numbers. Criteria of compatibility of a system of linear Diophantine equations, strict inequations, and nonstrict inequations are considered. Upper bounds for components of a minimal set of solutions and algorithms of construction of minimal generating sets of solutions for all types of systems are given. These criteria and the corresponding algorithms for constructing a minimal supporting set of solutions can be used in solving all the considered types systems and systems of mixed types.\"\n",
    "\n",
    "text=text.lower()\n",
    "punctuated_text = WordPunctTokenizer().tokenize(text)\n",
    "normal_text =tokenizer.tokenize(text) # This is the text without any noun removal\n",
    "print(nltk.pos_tag(normal_text));\n",
    "stop_words = set(stopwords.words('english'))    \n",
    "filtered_text = []\n",
    "\n",
    "for a_tuple in nltk.pos_tag(normal_text):\n",
    "    if(a_tuple[1] == 'JJ' or a_tuple[1] == 'NN' or a_tuple[1] == 'NNS'):\n",
    "        filtered_text.append(a_tuple[0])\n",
    "    \n",
    "\n",
    "# print(\"Punctuated Text: \\n\")\n",
    "# print(punctuated_text)\n",
    "# print(\"\\n\")\n",
    "\n",
    "\n",
    "print(\"Normal Text: \\n\")\n",
    "print(normal_text)\n",
    "print(\"\\n\")\n",
    "\n",
    "print(\"Filtered Text: \\n\")\n",
    "print(filtered_text)\n",
    "\n",
    "\n"
   ]
  },
  {
   "cell_type": "markdown",
   "metadata": {},
   "source": [
    "# Generate Graph and Add Values"
   ]
  },
  {
   "cell_type": "code",
   "execution_count": 16,
   "metadata": {},
   "outputs": [
    {
     "name": "stdout",
     "output_type": "stream",
     "text": [
      "graph: \n",
      "\n",
      "[('linear', 'constraints'), ('linear', 'diophantine'), ('constraints', 'linear'), ('natural', 'numbers'), ('numbers', 'natural'), ('numbers', 'criteria'), ('criteria', 'numbers'), ('diophantine', 'linear'), ('diophantine', 'equations'), ('equations', 'diophantine'), ('equations', 'strict'), ('strict', 'equations'), ('strict', 'inequations'), ('inequations', 'strict'), ('inequations', 'nonstrict'), ('nonstrict', 'inequations'), ('upper', 'bounds'), ('bounds', 'upper'), ('minimal', 'set'), ('minimal', 'supporting'), ('set', 'minimal'), ('set', 'supporting'), ('corresponding', 'algorithms'), ('algorithms', 'corresponding'), ('supporting', 'minimal'), ('supporting', 'set'), ('types', 'systems'), ('systems', 'types')]\n"
     ]
    }
   ],
   "source": [
    "from collections import defaultdict \n",
    "graph = defaultdict(list) \n",
    "\n",
    "\n",
    "def addEdge(graph,u,v): \n",
    "\tgraph[u].append(v) \n",
    "\n",
    "# definition of function \n",
    "def generate_edges(graph): \n",
    "\tedges = [] \n",
    "# an Array that contains nodes and its respected neighbors\n",
    "\t# for each node in graph \n",
    "\tfor node in graph: \n",
    "\t\t\n",
    "\t\t# for each neighbour node of a single node \n",
    "\t\tfor neighbour in graph[node]: \n",
    "\t\t\t\n",
    "\t\t\t# if edge exists then append \n",
    "\t\t\tedges.append((node, neighbour)) \n",
    "\treturn edges \n",
    "def createGraphA(n):\n",
    "    for i in range(0, len(normal_text) - 1):\n",
    "        for j in range(1, n):\n",
    "            if i + j < len(normal_text) - 1 and normal_text[i] in filtered_text and normal_text[i + j] in filtered_text:\n",
    "                if normal_text[i] in graph:\n",
    "                    graph[normal_text[i]].append(normal_text[i + j])\n",
    "                else:\n",
    "                    graph[normal_text[i]] = [normal_text[i + j]]\n",
    "                    \n",
    "                if normal_text[i + j] in graph:\n",
    "                    graph[normal_text[i + j]].append(normal_text[i])\n",
    "                else:\n",
    "                    graph[normal_text[i + j]] = [normal_text[i]]\n",
    "\n",
    "def createGraph(lexical_units_difference):\n",
    "    counter = 0\n",
    "    n=lexical_units_difference;\n",
    "    \n",
    "    while(len(filtered_text)>1):\n",
    "        word = filtered_text[0]\n",
    "        increment =1\n",
    "    \n",
    "        index_of_word_in_filtered_text = filtered_text.index(word)\n",
    "        index_of_word_in_normal_text= normal_text.index(word)\n",
    "        \n",
    "        #the word is the last word in the list\n",
    "        if((index_of_word_in_filtered_text== (len(filtered_text)-1))):\n",
    "            break;     \n",
    "        \n",
    "        next_word_in_filtered_text = filtered_text[index_of_word_in_filtered_text+increment] # this is the word that should be looked for as the next word in the regular text\n",
    "        index_of_next_word_in_normal_text= normal_text.index(next_word_in_filtered_text)\n",
    "        for i in range (0,n): #checks if the next word in the filtered array is wihtin 4 units Goes from 0-3\n",
    "            if(normal_text[index_of_word_in_normal_text + i] == next_word_in_filtered_text):\n",
    "                if((index_of_word_in_filtered_text + increment == len(filtered_text)-1)):\n",
    "#                     if(i==(n-1)):\n",
    "#                         increment=1\n",
    "                \n",
    "                    break;\n",
    "                \n",
    "                #SET UP GRAPH NODE\n",
    "                addEdge(graph,word,next_word_in_filtered_text)\n",
    "                addEdge(graph,next_word_in_filtered_text,word)\n",
    "            \n",
    "                increment= increment+1\n",
    "                next_word_in_filtered_text = filtered_text[index_of_word_in_filtered_text+increment]\n",
    "                \n",
    "        filtered_text.remove(word)\n",
    "            \n",
    "            \n",
    "        # Get the array index of this and the next word in the filtered array and see if they are within 4 indexes in the normal array\n",
    "            #Keep incrementing, if they arent wihtin 4 indexes break\n",
    "            #If they are within 4 units then add them to tree and keep incrementing\n",
    "                        #Repetition is automatticaly handled as the tree is a dictionary and you can jsut add onto the same word \n",
    "                \n",
    "    \n",
    "# Replicate this for all Edges\n",
    "# addEdge(graph,'e','c') \n",
    "\n",
    "# to print generated graph\n",
    "createGraphA(2)\n",
    "print(\"graph: \\n\")\n",
    "print((generate_edges(graph)))"
   ]
  },
  {
   "cell_type": "markdown",
   "metadata": {},
   "source": [
    "# Create a Dictionary of all Edges"
   ]
  },
  {
   "cell_type": "code",
   "execution_count": 17,
   "metadata": {},
   "outputs": [
    {
     "name": "stdout",
     "output_type": "stream",
     "text": [
      "dictionary: \n",
      "\n",
      "{'constraints': ['linear'], 'inequations': ['nonstrict', 'strict'], 'set': ['minimal', 'supporting'], 'linear': ['constraints', 'diophantine'], 'criteria': ['numbers'], 'types': ['systems'], 'equations': ['strict', 'diophantine'], 'algorithms': ['corresponding'], 'supporting': ['minimal', 'set'], 'corresponding': ['algorithms'], 'upper': ['bounds'], 'strict': ['equations', 'inequations'], 'numbers': ['natural', 'criteria'], 'diophantine': ['equations', 'linear'], 'minimal': ['set', 'supporting'], 'systems': ['types'], 'natural': ['numbers'], 'nonstrict': ['inequations'], 'bounds': ['upper']}\n"
     ]
    }
   ],
   "source": [
    "hello = list(set(generate_edges(graph)))\n",
    "dictionary={}\n",
    "for i in hello:\n",
    "    if (i[0] not in dictionary.keys()):\n",
    "        dictionary[i[0]] = [i[1]]\n",
    "    else:\n",
    "        dictionary[i[0]] = dictionary[i[0]]+([i[1]])\n",
    "print(\"dictionary: \\n\")\n",
    "print(dictionary)"
   ]
  },
  {
   "cell_type": "markdown",
   "metadata": {},
   "source": [
    "# Create a Dictionary of All Keys to Values"
   ]
  },
  {
   "cell_type": "code",
   "execution_count": 18,
   "metadata": {},
   "outputs": [
    {
     "name": "stdout",
     "output_type": "stream",
     "text": [
      "Verticies_Keys \n",
      "\n",
      "{'constraints': 1, 'inequations': 1, 'set': 1, 'linear': 1, 'criteria': 1, 'types': 1, 'equations': 1, 'algorithms': 1, 'supporting': 1, 'corresponding': 1, 'upper': 1, 'strict': 1, 'numbers': 1, 'diophantine': 1, 'minimal': 1, 'systems': 1, 'natural': 1, 'nonstrict': 1, 'bounds': 1}\n"
     ]
    }
   ],
   "source": [
    "Verticies_Keys={}\n",
    "for key in dictionary:\n",
    "    Verticies_Keys[key]= 1\n",
    "    \n",
    "print(\"Verticies_Keys \\n\")\n",
    "print(Verticies_Keys)"
   ]
  },
  {
   "cell_type": "markdown",
   "metadata": {},
   "source": [
    "# Implement Graph Recursion\n",
    "    - Go through every element in the list and apply the formula once\n",
    "        - .85 dampaning factor\n",
    "        -.15 + .85 * ()\n",
    "            - Find all the Values that point to the current Key //done\n",
    "                -Find Take those Values and find the length of their arrays\n",
    "                - Multiply each one by thier key value\n",
    "                - SUM EVERYTHING\n",
    "    - Repeat this 20 times\n",
    "        -Till CONVERGANCE"
   ]
  },
  {
   "cell_type": "code",
   "execution_count": 19,
   "metadata": {},
   "outputs": [],
   "source": [
    "def Rank():\n",
    "    key_List= list(Verticies_Keys.keys())\n",
    "    for j in range(len(key_List)):\n",
    "        key = key_List[j]\n",
    "        value=0\n",
    "        summation_value=0\n",
    "        All_Inputs = dictionary[key]\n",
    "        \n",
    "        for i in range(len(All_Inputs)): #each loop you deal with a seperate input and you increase summation_value\n",
    "            current_input = All_Inputs[i]\n",
    "            if(dictionary.get(current_input) == None):\n",
    "                continue\n",
    "            summation_value = summation_value + ((1/len(dictionary[current_input]))*Verticies_Keys[current_input])\n",
    "        value = (.15 + (.85 * summation_value))\n",
    "        Verticies_Keys[key]= value\n",
    "        \n",
    "        \n",
    "# If you change this value and reset the Verticies_Keys dictionary to 1 by running the code block above you can see the values converge the more times the algorithm is ran\n",
    "for i in range(40):\n",
    "    Rank()\n",
    "    \n",
    "#I run the Loop multiple times till the values converge  "
   ]
  },
  {
   "cell_type": "code",
   "execution_count": 20,
   "metadata": {},
   "outputs": [
    {
     "name": "stdout",
     "output_type": "stream",
     "text": [
      "Sorted Values In Dictionary with Rank \n",
      "\n",
      "{'constraints': 0.6511122285432975, 'inequations': 1.1790875848799316, 'set': 1.0, 'linear': 1.1790875848648001, 'criteria': 0.7702703240916305, 'types': 1.0, 'equations': 1.1012843812110387, 'algorithms': 1.0, 'supporting': 1.0, 'corresponding': 1.0, 'upper': 1.0, 'strict': 1.1191580855886625, 'numbers': 1.4594595509557717, 'diophantine': 1.1191580855822314, 'minimal': 1.0, 'systems': 1.0, 'natural': 0.770270309156203, 'nonstrict': 0.6511122235739709, 'bounds': 1.0}\n"
     ]
    }
   ],
   "source": [
    "print(\"Sorted Values In Dictionary with Rank \\n\")\n",
    "print(Verticies_Keys)"
   ]
  },
  {
   "cell_type": "markdown",
   "metadata": {},
   "source": [
    "### Post Processing and Joining Keywords"
   ]
  },
  {
   "cell_type": "code",
   "execution_count": 21,
   "metadata": {},
   "outputs": [
    {
     "name": "stdout",
     "output_type": "stream",
     "text": [
      "['linear constraints ', 'linear diophantine equations ', 'types systems ', 'corresponding algorithms ', 'upper bounds ', 'minimal set ', 'minimal supporting set ', 'natural numbers ', 'nonstrict inequations ']\n"
     ]
    }
   ],
   "source": [
    "keywords_array = list(Verticies_Keys)\n",
    "joined_keywords_array = [];\n",
    "repeats = [];\n",
    "\n",
    "for i in range(len(keywords_array)):   \n",
    "    indices = [k for k, x in enumerate(punctuated_text) if x == keywords_array[i]]\n",
    "    for j in indices:\n",
    "        joined_keyword = \"\"\n",
    "        if(punctuated_text[j+1] in keywords_array):\n",
    "            while(punctuated_text[j] in keywords_array): #gotta add the feature to double check\n",
    "                joined_keyword = joined_keyword + punctuated_text[j] + \" \"\n",
    "                j=j+1                        \n",
    "                \n",
    "        if(len(joined_keyword)>0):\n",
    "            joined_keywords_array.append(joined_keyword)\n",
    "        \n",
    "#Add Repeats to Repeats Array\n",
    "\n",
    "for i in range(len(joined_keywords_array)):\n",
    "    for j in range (len(joined_keywords_array)):\n",
    "        if(j==i):\n",
    "            continue;\n",
    "        if(joined_keywords_array[i].strip() in joined_keywords_array[j].strip()):\n",
    "            repeats.append(joined_keywords_array[i]);\n",
    "            break\n",
    "A= np.array(joined_keywords_array);\n",
    "B= np.array(repeats);\n",
    "           \n",
    "A = [i for i in A if i not in B]\n",
    "\n",
    "print(A)\n",
    "           \n",
    "        \n",
    "#If the length of the string is greater than 0 add to the array"
   ]
  },
  {
   "cell_type": "code",
   "execution_count": null,
   "metadata": {},
   "outputs": [],
   "source": []
  },
  {
   "cell_type": "code",
   "execution_count": null,
   "metadata": {},
   "outputs": [],
   "source": []
  },
  {
   "cell_type": "code",
   "execution_count": null,
   "metadata": {},
   "outputs": [],
   "source": []
  },
  {
   "cell_type": "code",
   "execution_count": null,
   "metadata": {},
   "outputs": [],
   "source": []
  },
  {
   "cell_type": "code",
   "execution_count": null,
   "metadata": {},
   "outputs": [],
   "source": []
  }
 ],
 "metadata": {
  "kernelspec": {
   "display_name": "Python 3",
   "language": "python",
   "name": "python3"
  },
  "language_info": {
   "codemirror_mode": {
    "name": "ipython",
    "version": 3
   },
   "file_extension": ".py",
   "mimetype": "text/x-python",
   "name": "python",
   "nbconvert_exporter": "python",
   "pygments_lexer": "ipython3",
   "version": "3.7.6"
  }
 },
 "nbformat": 4,
 "nbformat_minor": 4
}
